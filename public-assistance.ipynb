{
 "cells": [
  {
   "cell_type": "markdown",
   "id": "f64e6921",
   "metadata": {},
   "source": [
    "# Public Assistance Funded Project Summaries\n",
    "Author: Mark Bauer"
   ]
  },
  {
   "cell_type": "code",
   "execution_count": 1,
   "id": "47349bc9",
   "metadata": {},
   "outputs": [],
   "source": [
    "# import libraries\n",
    "import duckdb\n",
    "from datetime import datetime"
   ]
  },
  {
   "cell_type": "code",
   "execution_count": 2,
   "id": "9453672b",
   "metadata": {},
   "outputs": [
    {
     "name": "stdout",
     "output_type": "stream",
     "text": [
      "Python implementation: CPython\n",
      "Python version       : 3.11.0\n",
      "IPython version      : 8.6.0\n",
      "\n",
      "duckdb: 1.0.0\n",
      "\n"
     ]
    }
   ],
   "source": [
    "# reproducibility\n",
    "%reload_ext watermark\n",
    "%watermark -v -p duckdb"
   ]
  },
  {
   "cell_type": "code",
   "execution_count": 3,
   "id": "1b566886",
   "metadata": {},
   "outputs": [
    {
     "name": "stdout",
     "output_type": "stream",
     "text": [
      "This notebook was executed on 2024-10-03.\n"
     ]
    }
   ],
   "source": [
    "# data retrieved\n",
    "current_date = datetime.now()\n",
    "print(f\"This notebook was executed on {current_date.strftime('%Y-%m-%d')}.\")"
   ]
  },
  {
   "cell_type": "markdown",
   "id": "d5bbce5a",
   "metadata": {},
   "source": [
    "# OpenFEMA Dataset: Public Assistance Funded Project Summaries - v1\n",
    "\n",
    "## Dataset Description\n",
    ">FEMA provides supplemental Federal disaster grant assistance for debris removal, emergency protective measures, and the repair, replacement, or restoration of disaster-damaged, publicly owned facilities and the facilities of certain Private Non-Profit (PNP) organizations through the Public Assistance (PA) Program (CDFA Number 97.036). The PA Program also encourages protection of these damaged facilities from future events by providing assistance for hazard mitigation measures during the recovery process (see FEMA Hazard Mitigation Grants Sections 404 and 406: https://www.fema.gov/press-release/20230426/fema-hazard-mitigation-grants-404-and-406).\n",
    "\n",
    "Source: [OpenFEMA Dataset: Public Assistance Funded Project Summaries - v1](https://www.fema.gov/openfema-data-page/public-assistance-funded-project-summaries-v1)\n",
    "\n",
    "## Disaster Delcarations\n",
    "For more information on the disaster declaration process:\n",
    "- Information about disasters: https://www.fema.gov/disasters\n",
    "- How a disaster is declared: https://www.fema.gov/disasters/how-declared\n",
    "\n",
    "## Citation\n",
    "Federal Emergency Management Agency (FEMA), OpenFEMA Dataset: Public Assistance Funded Project Summaries - v1. Retrieved from https://www.fema.gov/openfema-data-page/public-assistance-funded-project-summaries-v1. This product uses the FEMA OpenFEMA API, but is not endorsed by FEMA. The Federal Government or FEMA cannot vouch for the data or analyses derived from these data after the data have been retrieved from the Agency's website(s).\n",
    "\n",
    "Read more about [OpenFEMA Terms and Conditions](https://www.fema.gov/about/openfema/terms-conditions)."
   ]
  },
  {
   "cell_type": "markdown",
   "id": "9a831110",
   "metadata": {},
   "source": [
    "# Additional Resources\n",
    "To examine other cool data visualizations about this data, visit FEMA's [Public Assistance Program Summary of Obligations](https://www.fema.gov/data-visualization/public-assistance-program-summary-obligations) page."
   ]
  },
  {
   "cell_type": "markdown",
   "id": "72299437",
   "metadata": {},
   "source": [
    "# Read In Data"
   ]
  },
  {
   "cell_type": "code",
   "execution_count": 4,
   "id": "f49e63f7",
   "metadata": {},
   "outputs": [
    {
     "data": {
      "text/plain": [
       "┌──────────────────────┬────────────────┬─────────────────┬───┬──────────────────────┬──────────────────────┐\n",
       "│          id          │ disasterNumber │ declarationDate │ … │     lastRefresh      │         hash         │\n",
       "│       varchar        │     int16      │      date       │   │      timestamp       │       varchar        │\n",
       "├──────────────────────┼────────────────┼─────────────────┼───┼──────────────────────┼──────────────────────┤\n",
       "│ 0646e381-ea0a-46e5…  │           1239 │ 1998-08-26      │ … │ 2023-03-18 17:02:4…  │ a18872962143d707fb…  │\n",
       "│ bc05fe25-0f1e-4344…  │           1239 │ 1998-08-26      │ … │ 2023-03-18 17:02:4…  │ d1c77a224203725a79…  │\n",
       "│ d9c845c8-5db4-404b…  │           1239 │ 1998-08-26      │ … │ 2023-03-18 17:02:4…  │ 7fb2d6dd706512236b…  │\n",
       "│ 9350e760-64da-4931…  │           1239 │ 1998-08-26      │ … │ 2023-03-18 17:02:4…  │ 571fab79609fe373f6…  │\n",
       "│ a196ef51-9883-47c8…  │           1239 │ 1998-08-26      │ … │ 2023-03-18 17:02:4…  │ 39207f1c57e1f088be…  │\n",
       "│ 39de6538-b22a-4f4d…  │           1239 │ 1998-08-26      │ … │ 2023-03-18 17:02:4…  │ c40a42519f16f555bf…  │\n",
       "│ a7b65c71-04ad-42cb…  │           1239 │ 1998-08-26      │ … │ 2023-03-18 17:02:4…  │ 27a47496ec86dfe604…  │\n",
       "│ 1ce2637e-8b52-4c80…  │           1239 │ 1998-08-26      │ … │ 2023-03-18 17:02:4…  │ eb5abec160a33b3d2b…  │\n",
       "│ bab5ed18-737b-4604…  │           1239 │ 1998-08-26      │ … │ 2023-03-18 17:02:4…  │ f57284709347d5bb5e…  │\n",
       "│ 53ca6416-0b75-4c84…  │           1239 │ 1998-08-26      │ … │ 2023-03-18 17:02:4…  │ 8d5736e71037dc2399…  │\n",
       "├──────────────────────┴────────────────┴─────────────────┴───┴──────────────────────┴──────────────────────┤\n",
       "│ 10 rows                                                                              12 columns (5 shown) │\n",
       "└───────────────────────────────────────────────────────────────────────────────────────────────────────────┘"
      ]
     },
     "execution_count": 4,
     "metadata": {},
     "output_type": "execute_result"
    }
   ],
   "source": [
    "# duckdb connection\n",
    "con = duckdb.connect()\n",
    "\n",
    "# create public assistance table\n",
    "con.execute(\"\"\"\n",
    "    CREATE TABLE public_assistance AS\n",
    "    FROM read_parquet('https://www.fema.gov/api/open/v1/PublicAssistanceFundedProjectsSummaries.parquet')\n",
    "\"\"\"\n",
    ")\n",
    "\n",
    "# sanity check\n",
    "sql = \"\"\"\n",
    "    SELECT *\n",
    "    FROM public_assistance\n",
    "    LIMIT 10\n",
    "\"\"\"\n",
    "\n",
    "con.sql(sql)"
   ]
  },
  {
   "cell_type": "markdown",
   "id": "4acec936",
   "metadata": {},
   "source": [
    "# Describe and Summarize Data"
   ]
  },
  {
   "cell_type": "code",
   "execution_count": 5,
   "id": "c0a5db39",
   "metadata": {},
   "outputs": [
    {
     "data": {
      "text/plain": [
       "┌────────────┐\n",
       "│ count_rows │\n",
       "│   int64    │\n",
       "├────────────┤\n",
       "│     185652 │\n",
       "└────────────┘"
      ]
     },
     "execution_count": 5,
     "metadata": {},
     "output_type": "execute_result"
    }
   ],
   "source": [
    "# count rows\n",
    "con.sql(\"SELECT COUNT(id) AS count_rows FROM public_assistance\")"
   ]
  },
  {
   "cell_type": "code",
   "execution_count": 6,
   "id": "a8cc04ce",
   "metadata": {},
   "outputs": [
    {
     "name": "stdout",
     "output_type": "stream",
     "text": [
      "┌────────────────────────┬─────────────┐\n",
      "│      column_name       │ column_type │\n",
      "│        varchar         │   varchar   │\n",
      "├────────────────────────┼─────────────┤\n",
      "│ id                     │ VARCHAR     │\n",
      "│ disasterNumber         │ SMALLINT    │\n",
      "│ declarationDate        │ DATE        │\n",
      "│ incidentType           │ VARCHAR     │\n",
      "│ state                  │ VARCHAR     │\n",
      "│ county                 │ VARCHAR     │\n",
      "│ applicantName          │ VARCHAR     │\n",
      "│ educationApplicant     │ BOOLEAN     │\n",
      "│ numberOfProjects       │ SMALLINT    │\n",
      "│ federalObligatedAmount │ DOUBLE      │\n",
      "│ lastRefresh            │ TIMESTAMP   │\n",
      "│ hash                   │ VARCHAR     │\n",
      "├────────────────────────┴─────────────┤\n",
      "│ 12 rows                    2 columns │\n",
      "└──────────────────────────────────────┘\n",
      "\n"
     ]
    }
   ],
   "source": [
    "# examine column datatypes\n",
    "sql = \"DESCRIBE SELECT * FROM public_assistance\"\n",
    "describe_relation = con.sql(sql)\n",
    "\n",
    "(con\n",
    " .sql(\"SELECT column_name, column_type FROM describe_relation\")\n",
    " .show(max_rows=50)\n",
    ")"
   ]
  },
  {
   "cell_type": "code",
   "execution_count": 7,
   "id": "61c36baa",
   "metadata": {},
   "outputs": [
    {
     "data": {
      "text/html": [
       "<div>\n",
       "<style scoped>\n",
       "    .dataframe tbody tr th:only-of-type {\n",
       "        vertical-align: middle;\n",
       "    }\n",
       "\n",
       "    .dataframe tbody tr th {\n",
       "        vertical-align: top;\n",
       "    }\n",
       "\n",
       "    .dataframe thead th {\n",
       "        text-align: right;\n",
       "    }\n",
       "</style>\n",
       "<table border=\"1\" class=\"dataframe\">\n",
       "  <thead>\n",
       "    <tr style=\"text-align: right;\">\n",
       "      <th></th>\n",
       "      <th>column_name</th>\n",
       "      <th>column_type</th>\n",
       "      <th>min</th>\n",
       "      <th>max</th>\n",
       "      <th>approx_unique</th>\n",
       "      <th>avg</th>\n",
       "      <th>std</th>\n",
       "      <th>q25</th>\n",
       "      <th>q50</th>\n",
       "      <th>q75</th>\n",
       "      <th>count</th>\n",
       "      <th>null_percentage</th>\n",
       "    </tr>\n",
       "  </thead>\n",
       "  <tbody>\n",
       "    <tr>\n",
       "      <th>0</th>\n",
       "      <td>id</td>\n",
       "      <td>VARCHAR</td>\n",
       "      <td>00002220-90a3-474a-a2fc-5cd033195b36</td>\n",
       "      <td>ffff6434-3cc9-4130-8363-32de43bddcb8</td>\n",
       "      <td>187613</td>\n",
       "      <td>None</td>\n",
       "      <td>None</td>\n",
       "      <td>None</td>\n",
       "      <td>None</td>\n",
       "      <td>None</td>\n",
       "      <td>185652</td>\n",
       "      <td>0.0</td>\n",
       "    </tr>\n",
       "    <tr>\n",
       "      <th>1</th>\n",
       "      <td>disasterNumber</td>\n",
       "      <td>SMALLINT</td>\n",
       "      <td>1239</td>\n",
       "      <td>4812</td>\n",
       "      <td>1648</td>\n",
       "      <td>2909.3991661818886</td>\n",
       "      <td>1259.0059165904195</td>\n",
       "      <td>1691</td>\n",
       "      <td>3150</td>\n",
       "      <td>4245</td>\n",
       "      <td>185652</td>\n",
       "      <td>0.0</td>\n",
       "    </tr>\n",
       "    <tr>\n",
       "      <th>2</th>\n",
       "      <td>declarationDate</td>\n",
       "      <td>DATE</td>\n",
       "      <td>1998-08-26</td>\n",
       "      <td>2024-08-20</td>\n",
       "      <td>1264</td>\n",
       "      <td>None</td>\n",
       "      <td>None</td>\n",
       "      <td>None</td>\n",
       "      <td>None</td>\n",
       "      <td>None</td>\n",
       "      <td>185652</td>\n",
       "      <td>0.0</td>\n",
       "    </tr>\n",
       "    <tr>\n",
       "      <th>3</th>\n",
       "      <td>incidentType</td>\n",
       "      <td>VARCHAR</td>\n",
       "      <td>Biological</td>\n",
       "      <td>Winter Storm</td>\n",
       "      <td>28</td>\n",
       "      <td>None</td>\n",
       "      <td>None</td>\n",
       "      <td>None</td>\n",
       "      <td>None</td>\n",
       "      <td>None</td>\n",
       "      <td>185652</td>\n",
       "      <td>0.0</td>\n",
       "    </tr>\n",
       "    <tr>\n",
       "      <th>4</th>\n",
       "      <td>state</td>\n",
       "      <td>VARCHAR</td>\n",
       "      <td>Alabama</td>\n",
       "      <td>Wyoming</td>\n",
       "      <td>63</td>\n",
       "      <td>None</td>\n",
       "      <td>None</td>\n",
       "      <td>None</td>\n",
       "      <td>None</td>\n",
       "      <td>None</td>\n",
       "      <td>185652</td>\n",
       "      <td>0.0</td>\n",
       "    </tr>\n",
       "    <tr>\n",
       "      <th>5</th>\n",
       "      <td>county</td>\n",
       "      <td>VARCHAR</td>\n",
       "      <td></td>\n",
       "      <td>Ziebach</td>\n",
       "      <td>3554</td>\n",
       "      <td>None</td>\n",
       "      <td>None</td>\n",
       "      <td>None</td>\n",
       "      <td>None</td>\n",
       "      <td>None</td>\n",
       "      <td>185652</td>\n",
       "      <td>0.0</td>\n",
       "    </tr>\n",
       "    <tr>\n",
       "      <th>6</th>\n",
       "      <td>applicantName</td>\n",
       "      <td>VARCHAR</td>\n",
       "      <td>#9 AREA FIRE DEPARTMENT</td>\n",
       "      <td>plainville</td>\n",
       "      <td>87293</td>\n",
       "      <td>None</td>\n",
       "      <td>None</td>\n",
       "      <td>None</td>\n",
       "      <td>None</td>\n",
       "      <td>None</td>\n",
       "      <td>185652</td>\n",
       "      <td>0.0</td>\n",
       "    </tr>\n",
       "    <tr>\n",
       "      <th>7</th>\n",
       "      <td>educationApplicant</td>\n",
       "      <td>BOOLEAN</td>\n",
       "      <td>false</td>\n",
       "      <td>true</td>\n",
       "      <td>2</td>\n",
       "      <td>None</td>\n",
       "      <td>None</td>\n",
       "      <td>None</td>\n",
       "      <td>None</td>\n",
       "      <td>None</td>\n",
       "      <td>185652</td>\n",
       "      <td>0.0</td>\n",
       "    </tr>\n",
       "    <tr>\n",
       "      <th>8</th>\n",
       "      <td>numberOfProjects</td>\n",
       "      <td>SMALLINT</td>\n",
       "      <td>0</td>\n",
       "      <td>2685</td>\n",
       "      <td>328</td>\n",
       "      <td>4.482418718893413</td>\n",
       "      <td>17.361197327824826</td>\n",
       "      <td>1</td>\n",
       "      <td>2</td>\n",
       "      <td>4</td>\n",
       "      <td>185652</td>\n",
       "      <td>0.0</td>\n",
       "    </tr>\n",
       "    <tr>\n",
       "      <th>9</th>\n",
       "      <td>federalObligatedAmount</td>\n",
       "      <td>DOUBLE</td>\n",
       "      <td>-1850352.29</td>\n",
       "      <td>12954204261.16</td>\n",
       "      <td>174805</td>\n",
       "      <td>1276227.0047087406</td>\n",
       "      <td>53117208.56566425</td>\n",
       "      <td>6687.23022716714</td>\n",
       "      <td>23306.762525691047</td>\n",
       "      <td>96196.14572380968</td>\n",
       "      <td>185652</td>\n",
       "      <td>0.0</td>\n",
       "    </tr>\n",
       "    <tr>\n",
       "      <th>10</th>\n",
       "      <td>lastRefresh</td>\n",
       "      <td>TIMESTAMP</td>\n",
       "      <td>2023-03-18 17:02:48.443</td>\n",
       "      <td>2024-10-03 15:23:13.058</td>\n",
       "      <td>332</td>\n",
       "      <td>None</td>\n",
       "      <td>None</td>\n",
       "      <td>None</td>\n",
       "      <td>None</td>\n",
       "      <td>None</td>\n",
       "      <td>185652</td>\n",
       "      <td>0.0</td>\n",
       "    </tr>\n",
       "    <tr>\n",
       "      <th>11</th>\n",
       "      <td>hash</td>\n",
       "      <td>VARCHAR</td>\n",
       "      <td>0002201381cace6e52e77b8466bca5298a5096e2</td>\n",
       "      <td>ffffaefb91876ff560b9ae9fc1c1ae73f2ef1904</td>\n",
       "      <td>179968</td>\n",
       "      <td>None</td>\n",
       "      <td>None</td>\n",
       "      <td>None</td>\n",
       "      <td>None</td>\n",
       "      <td>None</td>\n",
       "      <td>185652</td>\n",
       "      <td>0.0</td>\n",
       "    </tr>\n",
       "  </tbody>\n",
       "</table>\n",
       "</div>"
      ],
      "text/plain": [
       "               column_name column_type  \\\n",
       "0                       id     VARCHAR   \n",
       "1           disasterNumber    SMALLINT   \n",
       "2          declarationDate        DATE   \n",
       "3             incidentType     VARCHAR   \n",
       "4                    state     VARCHAR   \n",
       "5                   county     VARCHAR   \n",
       "6            applicantName     VARCHAR   \n",
       "7       educationApplicant     BOOLEAN   \n",
       "8         numberOfProjects    SMALLINT   \n",
       "9   federalObligatedAmount      DOUBLE   \n",
       "10             lastRefresh   TIMESTAMP   \n",
       "11                    hash     VARCHAR   \n",
       "\n",
       "                                         min  \\\n",
       "0       00002220-90a3-474a-a2fc-5cd033195b36   \n",
       "1                                       1239   \n",
       "2                                 1998-08-26   \n",
       "3                                 Biological   \n",
       "4                                    Alabama   \n",
       "5                                              \n",
       "6                    #9 AREA FIRE DEPARTMENT   \n",
       "7                                      false   \n",
       "8                                          0   \n",
       "9                                -1850352.29   \n",
       "10                   2023-03-18 17:02:48.443   \n",
       "11  0002201381cace6e52e77b8466bca5298a5096e2   \n",
       "\n",
       "                                         max  approx_unique  \\\n",
       "0       ffff6434-3cc9-4130-8363-32de43bddcb8         187613   \n",
       "1                                       4812           1648   \n",
       "2                                 2024-08-20           1264   \n",
       "3                               Winter Storm             28   \n",
       "4                                    Wyoming             63   \n",
       "5                                    Ziebach           3554   \n",
       "6                                 plainville          87293   \n",
       "7                                       true              2   \n",
       "8                                       2685            328   \n",
       "9                             12954204261.16         174805   \n",
       "10                   2024-10-03 15:23:13.058            332   \n",
       "11  ffffaefb91876ff560b9ae9fc1c1ae73f2ef1904         179968   \n",
       "\n",
       "                   avg                 std               q25  \\\n",
       "0                 None                None              None   \n",
       "1   2909.3991661818886  1259.0059165904195              1691   \n",
       "2                 None                None              None   \n",
       "3                 None                None              None   \n",
       "4                 None                None              None   \n",
       "5                 None                None              None   \n",
       "6                 None                None              None   \n",
       "7                 None                None              None   \n",
       "8    4.482418718893413  17.361197327824826                 1   \n",
       "9   1276227.0047087406   53117208.56566425  6687.23022716714   \n",
       "10                None                None              None   \n",
       "11                None                None              None   \n",
       "\n",
       "                   q50                q75   count  null_percentage  \n",
       "0                 None               None  185652              0.0  \n",
       "1                 3150               4245  185652              0.0  \n",
       "2                 None               None  185652              0.0  \n",
       "3                 None               None  185652              0.0  \n",
       "4                 None               None  185652              0.0  \n",
       "5                 None               None  185652              0.0  \n",
       "6                 None               None  185652              0.0  \n",
       "7                 None               None  185652              0.0  \n",
       "8                    2                  4  185652              0.0  \n",
       "9   23306.762525691047  96196.14572380968  185652              0.0  \n",
       "10                None               None  185652              0.0  \n",
       "11                None               None  185652              0.0  "
      ]
     },
     "execution_count": 7,
     "metadata": {},
     "output_type": "execute_result"
    }
   ],
   "source": [
    "# summary statistics\n",
    "sql = \"SUMMARIZE SELECT * FROM public_assistance\"\n",
    "summarize_relation = con.sql(sql)\n",
    "\n",
    "summarize_relation.df()"
   ]
  },
  {
   "cell_type": "code",
   "execution_count": 8,
   "id": "28bd31a3",
   "metadata": {},
   "outputs": [
    {
     "name": "stdout",
     "output_type": "stream",
     "text": [
      "┌────────────────────────┬─────────────┬─────────────────┐\n",
      "│      column_name       │ column_type │ null_percentage │\n",
      "│        varchar         │   varchar   │  decimal(9,2)   │\n",
      "├────────────────────────┼─────────────┼─────────────────┤\n",
      "│ id                     │ VARCHAR     │            0.00 │\n",
      "│ disasterNumber         │ SMALLINT    │            0.00 │\n",
      "│ declarationDate        │ DATE        │            0.00 │\n",
      "│ incidentType           │ VARCHAR     │            0.00 │\n",
      "│ state                  │ VARCHAR     │            0.00 │\n",
      "│ county                 │ VARCHAR     │            0.00 │\n",
      "│ applicantName          │ VARCHAR     │            0.00 │\n",
      "│ educationApplicant     │ BOOLEAN     │            0.00 │\n",
      "│ numberOfProjects       │ SMALLINT    │            0.00 │\n",
      "│ federalObligatedAmount │ DOUBLE      │            0.00 │\n",
      "│ lastRefresh            │ TIMESTAMP   │            0.00 │\n",
      "│ hash                   │ VARCHAR     │            0.00 │\n",
      "├────────────────────────┴─────────────┴─────────────────┤\n",
      "│ 12 rows                                      3 columns │\n",
      "└────────────────────────────────────────────────────────┘\n",
      "\n"
     ]
    }
   ],
   "source": [
    "# examine NULL percentage\n",
    "sql = \"\"\"\n",
    "    SELECT column_name, column_type, null_percentage\n",
    "    FROM summarize_relation\n",
    "    ORDER BY null_percentage DESC\n",
    "\"\"\"\n",
    "\n",
    "con.sql(sql).show(max_rows=50)"
   ]
  },
  {
   "cell_type": "markdown",
   "id": "95b65316",
   "metadata": {},
   "source": [
    "# Preview Values"
   ]
  },
  {
   "cell_type": "code",
   "execution_count": 9,
   "id": "b76733e7",
   "metadata": {
    "scrolled": false
   },
   "outputs": [
    {
     "data": {
      "text/html": [
       "<div>\n",
       "<style scoped>\n",
       "    .dataframe tbody tr th:only-of-type {\n",
       "        vertical-align: middle;\n",
       "    }\n",
       "\n",
       "    .dataframe tbody tr th {\n",
       "        vertical-align: top;\n",
       "    }\n",
       "\n",
       "    .dataframe thead th {\n",
       "        text-align: right;\n",
       "    }\n",
       "</style>\n",
       "<table border=\"1\" class=\"dataframe\">\n",
       "  <thead>\n",
       "    <tr style=\"text-align: right;\">\n",
       "      <th></th>\n",
       "      <th>id</th>\n",
       "      <th>disasterNumber</th>\n",
       "      <th>declarationDate</th>\n",
       "      <th>incidentType</th>\n",
       "      <th>state</th>\n",
       "      <th>county</th>\n",
       "      <th>applicantName</th>\n",
       "      <th>educationApplicant</th>\n",
       "      <th>numberOfProjects</th>\n",
       "      <th>federalObligatedAmount</th>\n",
       "      <th>lastRefresh</th>\n",
       "      <th>hash</th>\n",
       "    </tr>\n",
       "  </thead>\n",
       "  <tbody>\n",
       "    <tr>\n",
       "      <th>0</th>\n",
       "      <td>0646e381-ea0a-46e5-993d-1bdb1cfe2a27</td>\n",
       "      <td>1239</td>\n",
       "      <td>1998-08-26</td>\n",
       "      <td>Severe Storm</td>\n",
       "      <td>Texas</td>\n",
       "      <td>Edwards</td>\n",
       "      <td>EDWARDS (COUNTY)</td>\n",
       "      <td>False</td>\n",
       "      <td>20</td>\n",
       "      <td>352427.09</td>\n",
       "      <td>2023-03-18 17:02:48.443</td>\n",
       "      <td>a18872962143d707fb83e3f0b054abda40413d04</td>\n",
       "    </tr>\n",
       "    <tr>\n",
       "      <th>1</th>\n",
       "      <td>bc05fe25-0f1e-4344-a120-55f23f45cd4e</td>\n",
       "      <td>1239</td>\n",
       "      <td>1998-08-26</td>\n",
       "      <td>Severe Storm</td>\n",
       "      <td>Texas</td>\n",
       "      <td>Kimble</td>\n",
       "      <td>JUNCTION, CITY OF</td>\n",
       "      <td>False</td>\n",
       "      <td>1</td>\n",
       "      <td>6234.90</td>\n",
       "      <td>2023-03-18 17:02:48.443</td>\n",
       "      <td>d1c77a224203725a79d26a1d84f8ad2b06b36c7f</td>\n",
       "    </tr>\n",
       "    <tr>\n",
       "      <th>2</th>\n",
       "      <td>d9c845c8-5db4-404b-866d-e06b3c73397a</td>\n",
       "      <td>1239</td>\n",
       "      <td>1998-08-26</td>\n",
       "      <td>Severe Storm</td>\n",
       "      <td>Texas</td>\n",
       "      <td>Kimble</td>\n",
       "      <td>KIMBLE (COUNTY)</td>\n",
       "      <td>False</td>\n",
       "      <td>5</td>\n",
       "      <td>69933.35</td>\n",
       "      <td>2023-03-18 17:02:48.443</td>\n",
       "      <td>7fb2d6dd706512236b3ed6c0e6ddd6a633b50d38</td>\n",
       "    </tr>\n",
       "    <tr>\n",
       "      <th>3</th>\n",
       "      <td>9350e760-64da-4931-ace0-0e37d7e82eb3</td>\n",
       "      <td>1239</td>\n",
       "      <td>1998-08-26</td>\n",
       "      <td>Severe Storm</td>\n",
       "      <td>Texas</td>\n",
       "      <td>Kimble</td>\n",
       "      <td>TEXAS TECH UNIVERSITY CTR</td>\n",
       "      <td>True</td>\n",
       "      <td>1</td>\n",
       "      <td>2850.00</td>\n",
       "      <td>2023-03-18 17:02:48.443</td>\n",
       "      <td>571fab79609fe373f64529b540289ee5dd400ed5</td>\n",
       "    </tr>\n",
       "    <tr>\n",
       "      <th>4</th>\n",
       "      <td>a196ef51-9883-47c8-809d-1d797e8e1f48</td>\n",
       "      <td>1239</td>\n",
       "      <td>1998-08-26</td>\n",
       "      <td>Severe Storm</td>\n",
       "      <td>Texas</td>\n",
       "      <td>Kinney</td>\n",
       "      <td>FORT CLARK MUNICIPAL UTILITY</td>\n",
       "      <td>False</td>\n",
       "      <td>1</td>\n",
       "      <td>5016.00</td>\n",
       "      <td>2023-03-18 17:02:48.443</td>\n",
       "      <td>39207f1c57e1f088bef0ce07238c1aa9a18022d8</td>\n",
       "    </tr>\n",
       "  </tbody>\n",
       "</table>\n",
       "</div>"
      ],
      "text/plain": [
       "                                     id  disasterNumber declarationDate  \\\n",
       "0  0646e381-ea0a-46e5-993d-1bdb1cfe2a27            1239      1998-08-26   \n",
       "1  bc05fe25-0f1e-4344-a120-55f23f45cd4e            1239      1998-08-26   \n",
       "2  d9c845c8-5db4-404b-866d-e06b3c73397a            1239      1998-08-26   \n",
       "3  9350e760-64da-4931-ace0-0e37d7e82eb3            1239      1998-08-26   \n",
       "4  a196ef51-9883-47c8-809d-1d797e8e1f48            1239      1998-08-26   \n",
       "\n",
       "   incidentType  state   county                 applicantName  \\\n",
       "0  Severe Storm  Texas  Edwards              EDWARDS (COUNTY)   \n",
       "1  Severe Storm  Texas   Kimble             JUNCTION, CITY OF   \n",
       "2  Severe Storm  Texas   Kimble               KIMBLE (COUNTY)   \n",
       "3  Severe Storm  Texas   Kimble     TEXAS TECH UNIVERSITY CTR   \n",
       "4  Severe Storm  Texas   Kinney  FORT CLARK MUNICIPAL UTILITY   \n",
       "\n",
       "   educationApplicant  numberOfProjects  federalObligatedAmount  \\\n",
       "0               False                20               352427.09   \n",
       "1               False                 1                 6234.90   \n",
       "2               False                 5                69933.35   \n",
       "3                True                 1                 2850.00   \n",
       "4               False                 1                 5016.00   \n",
       "\n",
       "              lastRefresh                                      hash  \n",
       "0 2023-03-18 17:02:48.443  a18872962143d707fb83e3f0b054abda40413d04  \n",
       "1 2023-03-18 17:02:48.443  d1c77a224203725a79d26a1d84f8ad2b06b36c7f  \n",
       "2 2023-03-18 17:02:48.443  7fb2d6dd706512236b3ed6c0e6ddd6a633b50d38  \n",
       "3 2023-03-18 17:02:48.443  571fab79609fe373f64529b540289ee5dd400ed5  \n",
       "4 2023-03-18 17:02:48.443  39207f1c57e1f088bef0ce07238c1aa9a18022d8  "
      ]
     },
     "execution_count": 9,
     "metadata": {},
     "output_type": "execute_result"
    }
   ],
   "source": [
    "sql = \"\"\"\n",
    "    SELECT\n",
    "        *\n",
    "    FROM\n",
    "        public_assistance\n",
    "    LIMIT 5   \n",
    "\"\"\"\n",
    "\n",
    "con.sql(sql).df()"
   ]
  },
  {
   "cell_type": "code",
   "execution_count": 10,
   "id": "fbb97438",
   "metadata": {},
   "outputs": [
    {
     "data": {
      "text/plain": [
       "┌────────────────┬──────────────────────────┬───────┐\n",
       "│ disasterNumber │      applicantName       │ count │\n",
       "│     int16      │         varchar          │ int64 │\n",
       "├────────────────┼──────────────────────────┼───────┤\n",
       "│           1580 │ JACKSON, TOWNSHIP OF     │    17 │\n",
       "│           1580 │ WASHINGTON, TOWNSHIP OF  │    16 │\n",
       "│           3180 │ WASHINGTON (TOWNSHIP OF) │    13 │\n",
       "│           1453 │ JEFFERSON, TOWNSHIP OF   │    12 │\n",
       "│           1557 │ WASHINGTON (TOWNSHIP OF) │    12 │\n",
       "│           1580 │ UNION, TOWNSHIP OF       │    12 │\n",
       "│           1453 │ WASHINGTON, TOWNSHIP OF  │    11 │\n",
       "│           1580 │ MONROE, TOWNSHIP OF      │    11 │\n",
       "│           1580 │ PERRY, TOWNSHIP OF       │    10 │\n",
       "│           1453 │ JACKSON, TOWNSHIP OF     │    10 │\n",
       "│           1453 │ PERRY, TOWNSHIP OF       │     9 │\n",
       "│           1557 │ JACKSON (TOWNSHIP OF)    │     9 │\n",
       "│           1898 │ WASHINGTON (TOWNSHIP OF) │     9 │\n",
       "│           1580 │ SALEM, TOWNSHIP OF       │     9 │\n",
       "│           3180 │ PENN (TOWNSHIP OF)       │     9 │\n",
       "│           1453 │ UNION, TOWNSHIP OF       │     9 │\n",
       "│           4077 │ JACKSON (TOWNSHIP OF)    │     9 │\n",
       "│           1699 │ LINCOLN TOWNSHIP         │     9 │\n",
       "│           4267 │ WASHINGTON (TOWNSHIP OF) │     8 │\n",
       "│           1557 │ FRANKLIN (TOWNSHIP OF)   │     8 │\n",
       "├────────────────┴──────────────────────────┴───────┤\n",
       "│ 20 rows                                 3 columns │\n",
       "└───────────────────────────────────────────────────┘"
      ]
     },
     "execution_count": 10,
     "metadata": {},
     "output_type": "execute_result"
    }
   ],
   "source": [
    "# count per declaration and applicant\n",
    "sql = \"\"\"\n",
    "    SELECT\n",
    "       disasterNumber,\n",
    "       applicantName,\n",
    "       count(id) AS count\n",
    "    FROM\n",
    "        public_assistance\n",
    "    GROUP BY\n",
    "        1, 2\n",
    "    ORDER BY\n",
    "        count DESC   \n",
    "\"\"\"\n",
    "\n",
    "relation = con.sql(sql)\n",
    "\n",
    "con.sql(\"\"\"\n",
    "    SELECT *\n",
    "    FROM relation\n",
    "    ORDER BY count DESC\n",
    "    LIMIT 20\n",
    "\"\"\")"
   ]
  },
  {
   "cell_type": "markdown",
   "id": "a3039efe",
   "metadata": {},
   "source": [
    "The data suggests that one Disaster Number and Applicant can have multiple records in this dataset. Let's examine further."
   ]
  },
  {
   "cell_type": "code",
   "execution_count": 11,
   "id": "4c2db7ba",
   "metadata": {
    "scrolled": false
   },
   "outputs": [
    {
     "data": {
      "text/plain": [
       "id               17\n",
       "incidentType      1\n",
       "state             1\n",
       "county           17\n",
       "applicantName     1\n",
       "hash             17\n",
       "Name: unique, dtype: object"
      ]
     },
     "execution_count": 11,
     "metadata": {},
     "output_type": "execute_result"
    }
   ],
   "source": [
    "# examine count unique for applicantName = 'JACKSON, TOWNSHIP OF'\n",
    "(con\n",
    " .sql(\"\"\"\n",
    "    SELECT *\n",
    "    FROM public_assistance\n",
    "    WHERE applicantName = 'JACKSON, TOWNSHIP OF'\n",
    "        AND disasterNumber = 1580\n",
    "\"\"\")\n",
    " .df()\n",
    " .describe(include='object')\n",
    " .loc['unique']\n",
    ")"
   ]
  },
  {
   "cell_type": "markdown",
   "id": "6bcbef7e",
   "metadata": {},
   "source": [
    "Data suggests that an Applicant can have many counties. Let's group by county to confirm."
   ]
  },
  {
   "cell_type": "code",
   "execution_count": 12,
   "id": "e2ca4ac6",
   "metadata": {},
   "outputs": [
    {
     "data": {
      "text/plain": [
       "┌────────────────┬──────────────────────┬────────────┬───────┐\n",
       "│ disasterNumber │    applicantName     │   county   │ count │\n",
       "│     int16      │       varchar        │  varchar   │ int64 │\n",
       "├────────────────┼──────────────────────┼────────────┼───────┤\n",
       "│           1580 │ JACKSON, TOWNSHIP OF │ Crawford   │     1 │\n",
       "│           1580 │ JACKSON, TOWNSHIP OF │ Franklin   │     1 │\n",
       "│           1580 │ JACKSON, TOWNSHIP OF │ Highland   │     1 │\n",
       "│           1580 │ JACKSON, TOWNSHIP OF │ Shelby     │     1 │\n",
       "│           1580 │ JACKSON, TOWNSHIP OF │ Noble      │     1 │\n",
       "│           1580 │ JACKSON, TOWNSHIP OF │ Allen      │     1 │\n",
       "│           1580 │ JACKSON, TOWNSHIP OF │ Pickaway   │     1 │\n",
       "│           1580 │ JACKSON, TOWNSHIP OF │ Hardin     │     1 │\n",
       "│           1580 │ JACKSON, TOWNSHIP OF │ Darke      │     1 │\n",
       "│           1580 │ JACKSON, TOWNSHIP OF │ Knox       │     1 │\n",
       "│           1580 │ JACKSON, TOWNSHIP OF │ Monroe     │     1 │\n",
       "│           1580 │ JACKSON, TOWNSHIP OF │ Guernsey   │     1 │\n",
       "│           1580 │ JACKSON, TOWNSHIP OF │ Paulding   │     1 │\n",
       "│           1580 │ JACKSON, TOWNSHIP OF │ Montgomery │     1 │\n",
       "│           1580 │ JACKSON, TOWNSHIP OF │ Richland   │     1 │\n",
       "│           1580 │ JACKSON, TOWNSHIP OF │ Pike       │     1 │\n",
       "│           1580 │ JACKSON, TOWNSHIP OF │ Muskingum  │     1 │\n",
       "├────────────────┴──────────────────────┴────────────┴───────┤\n",
       "│ 17 rows                                          4 columns │\n",
       "└────────────────────────────────────────────────────────────┘"
      ]
     },
     "execution_count": 12,
     "metadata": {},
     "output_type": "execute_result"
    }
   ],
   "source": [
    "# group by columns and order by DESC to view unique counts\n",
    "sql = \"\"\"\n",
    "    SELECT\n",
    "        disasterNumber,\n",
    "        applicantName,\n",
    "        county,\n",
    "        count(id) AS count\n",
    "    FROM\n",
    "        public_assistance\n",
    "    GROUP BY\n",
    "        1, 2, 3\n",
    "    ORDER BY\n",
    "        count DESC   \n",
    "\"\"\"\n",
    "\n",
    "relation = con.sql(sql)\n",
    "\n",
    "# use 'JACKSON, TOWNSHIP OF' as example\n",
    "con.sql(\"\"\"\n",
    "    SELECT *\n",
    "    FROM relation\n",
    "    WHERE applicantName = 'JACKSON, TOWNSHIP OF'\n",
    "        AND disasterNumber = 1580\n",
    "    ORDER BY count DESC\n",
    "\"\"\")"
   ]
  },
  {
   "cell_type": "markdown",
   "id": "0340b204",
   "metadata": {},
   "source": [
    "From the analysis above, unique record consists of a disaster, an Applicant, and a county."
   ]
  },
  {
   "cell_type": "markdown",
   "id": "c83e5cde",
   "metadata": {},
   "source": [
    "# Analysis"
   ]
  },
  {
   "cell_type": "code",
   "execution_count": 13,
   "id": "d75b4746",
   "metadata": {},
   "outputs": [
    {
     "data": {
      "text/plain": [
       "┌────────────────────────┐\n",
       "│ federalObligatedAmount │\n",
       "│         int64          │\n",
       "├────────────────────────┤\n",
       "│           236934095878 │\n",
       "└────────────────────────┘"
      ]
     },
     "execution_count": 13,
     "metadata": {},
     "output_type": "execute_result"
    }
   ],
   "source": [
    "sql = \"\"\"\n",
    "    SELECT\n",
    "        ROUND(SUM(federalObligatedAmount), 0)::BIGINT AS federalObligatedAmount\n",
    "    FROM\n",
    "        public_assistance  \n",
    "\"\"\"\n",
    "\n",
    "con.sql(sql)"
   ]
  },
  {
   "cell_type": "code",
   "execution_count": 14,
   "id": "399256f9",
   "metadata": {},
   "outputs": [
    {
     "name": "stdout",
     "output_type": "stream",
     "text": [
      "Total federal obligated amount: $236,934,095,878\n"
     ]
    }
   ],
   "source": [
    "# format dollar value\n",
    "federalObligatedAmount = con.sql(sql).df().values[0][0]\n",
    "\n",
    "print(f\"Total federal obligated amount: ${federalObligatedAmount:,}\")"
   ]
  },
  {
   "cell_type": "code",
   "execution_count": 15,
   "id": "08ef2713",
   "metadata": {},
   "outputs": [
    {
     "name": "stdout",
     "output_type": "stream",
     "text": [
      "Total disaster declarations: 1,651\n"
     ]
    }
   ],
   "source": [
    "sql = \"\"\"\n",
    "    SELECT\n",
    "        COUNT(DISTINCT disasterNumber)\n",
    "    FROM\n",
    "        public_assistance\n",
    "\"\"\"\n",
    "\n",
    "disasterNumber = con.sql(sql).df().values[0][0]\n",
    "\n",
    "print(f\"Total disaster declarations: {disasterNumber:,}\")"
   ]
  },
  {
   "cell_type": "code",
   "execution_count": 16,
   "id": "bb3a7be3",
   "metadata": {},
   "outputs": [
    {
     "name": "stdout",
     "output_type": "stream",
     "text": [
      "Number of applicants with funded projects: 86,167\n"
     ]
    }
   ],
   "source": [
    "sql = \"\"\"\n",
    "    SELECT\n",
    "        COUNT(DISTINCT applicantName)\n",
    "    FROM\n",
    "        public_assistance  \n",
    "    WHERE \n",
    "        numberOfProjects > 0\n",
    "\"\"\"\n",
    "\n",
    "applicantName = con.sql(sql).df().values[0][0]\n",
    "\n",
    "print(f\"Number of applicants with funded projects: {applicantName:,}\")"
   ]
  },
  {
   "cell_type": "code",
   "execution_count": 17,
   "id": "1e6f76c1",
   "metadata": {},
   "outputs": [
    {
     "name": "stdout",
     "output_type": "stream",
     "text": [
      "Total funded Project Worksheets (PWs): 832,170\n"
     ]
    }
   ],
   "source": [
    "sql = \"\"\"\n",
    "    SELECT\n",
    "        SUM(numberOfProjects)::BIGINT\n",
    "    FROM\n",
    "        public_assistance  \n",
    "        \n",
    "\"\"\"\n",
    "\n",
    "numberOfProjects = con.sql(sql).df().values[0][0]\n",
    "\n",
    "print(f\"Total funded Project Worksheets (PWs): {numberOfProjects:,}\")"
   ]
  },
  {
   "cell_type": "markdown",
   "id": "8439a3f1",
   "metadata": {},
   "source": [
    "**Table xx.** Top 20 Disaster Declarations and States with the Highest Federal Obligated Amount"
   ]
  },
  {
   "cell_type": "code",
   "execution_count": 18,
   "id": "5a7e54a7",
   "metadata": {},
   "outputs": [
    {
     "data": {
      "text/plain": [
       "┌────────────────┬────────────────┬────────────────────────┐\n",
       "│ disasterNumber │     state      │ federalObligatedAmount │\n",
       "│     int16      │    varchar     │         int64          │\n",
       "├────────────────┼────────────────┼────────────────────────┤\n",
       "│           4339 │ Puerto Rico    │            33962164412 │\n",
       "│           4480 │ New York       │            15056437208 │\n",
       "│           4485 │ Texas          │            14909743427 │\n",
       "│           4085 │ New York       │            14735635709 │\n",
       "│           1603 │ Louisiana      │            13524620378 │\n",
       "│           4340 │ Virgin Islands │            12239518967 │\n",
       "│           4482 │ California     │            10609269973 │\n",
       "│           1391 │ New York       │             4708614487 │\n",
       "│           1604 │ Mississippi    │             3184451567 │\n",
       "│           4486 │ Florida        │             3051885056 │\n",
       "│           4496 │ Massachusetts  │             2975723414 │\n",
       "│           4488 │ New Jersey     │             2960234354 │\n",
       "│           4332 │ Texas          │             2921550103 │\n",
       "│           4559 │ Louisiana      │             2738678043 │\n",
       "│           4611 │ Louisiana      │             2639501898 │\n",
       "│           4481 │ Washington     │             2549450589 │\n",
       "│           4484 │ Louisiana      │             2495205446 │\n",
       "│           4337 │ Florida        │             2461181260 │\n",
       "│           4673 │ Florida        │             2305449162 │\n",
       "│           1791 │ Texas          │             2222384884 │\n",
       "├────────────────┴────────────────┴────────────────────────┤\n",
       "│ 20 rows                                        3 columns │\n",
       "└──────────────────────────────────────────────────────────┘"
      ]
     },
     "execution_count": 18,
     "metadata": {},
     "output_type": "execute_result"
    }
   ],
   "source": [
    "sql = \"\"\"\n",
    "    SELECT\n",
    "        disasterNumber,\n",
    "        state,\n",
    "        ROUND(SUM(federalObligatedAmount), 0)::BIGINT AS federalObligatedAmount\n",
    "    FROM\n",
    "        public_assistance\n",
    "    GROUP BY\n",
    "        disasterNumber, state\n",
    "    ORDER BY\n",
    "        federalObligatedAmount DESC   \n",
    "\"\"\"\n",
    "\n",
    "relation = con.sql(sql)\n",
    "\n",
    "con.sql(\"\"\"\n",
    "    SELECT *\n",
    "    FROM relation\n",
    "    ORDER BY federalObligatedAmount DESC\n",
    "    LIMIT 20\n",
    "\"\"\")"
   ]
  },
  {
   "cell_type": "markdown",
   "id": "458a5b2c",
   "metadata": {},
   "source": [
    "**Table xx.** Top 20 Disaster Declarations and States with the Highest Federal Obligated Amount"
   ]
  },
  {
   "cell_type": "code",
   "execution_count": 19,
   "id": "e2a6995b",
   "metadata": {},
   "outputs": [
    {
     "data": {
      "text/plain": [
       "┌────────────────┬─────────────────────────────────────────────────────────────┬────────────────────────┐\n",
       "│ disasterNumber │                        applicantName                        │ federalObligatedAmount │\n",
       "│     int16      │                           varchar                           │         int64          │\n",
       "├────────────────┼─────────────────────────────────────────────────────────────┼────────────────────────┤\n",
       "│           4339 │ PR Electric Power Authority                                 │            12954204261 │\n",
       "│           4485 │ Texas Department of State Health Services                   │             9697013440 │\n",
       "│           4480 │ City of New York - Management and Budget                    │             8613685564 │\n",
       "│           4085 │ NEW YORK                                                    │             8513455550 │\n",
       "│           4339 │ PR Aqueduct and Sewer Authority                             │             4627455402 │\n",
       "│           4485 │ Texas Division of Emergency Management                      │             4035301943 │\n",
       "│           4339 │ PR Department of Education                                  │             2578878045 │\n",
       "│           1603 │ NEW ORLEANS, CITY OF                                        │             2455172455 │\n",
       "│           4482 │ California Department of Public Health                      │             2338350713 │\n",
       "│           4480 │ NYS Division of Budget                                      │             2219029501 │\n",
       "│           4486 │ Florida Division of Emergency Management                    │             2087513091 │\n",
       "│           4340 │ V.I. Department of Education / St Croix                     │             1999647697 │\n",
       "│           4340 │ V.I. Department of Education / St Thomas                    │             1891783874 │\n",
       "│           4482 │ California Governor's Office of Emergency Services (CalOES) │             1662512192 │\n",
       "│           4498 │ Colorado Department of Public Health - Environment          │             1618269470 │\n",
       "│           1603 │ RECOVERY SCHOOL DISTRICT                                    │             1606059532 │\n",
       "│           4673 │ Florida Division of Emergency Management                    │             1467081209 │\n",
       "│           4339 │ PR Public Housing Administration                            │             1461468418 │\n",
       "│           4339 │ PR Department of Housing                                    │             1402197223 │\n",
       "│           1391 │ NEW YORK, CITY OF                                           │             1363060207 │\n",
       "├────────────────┴─────────────────────────────────────────────────────────────┴────────────────────────┤\n",
       "│ 20 rows                                                                                     3 columns │\n",
       "└───────────────────────────────────────────────────────────────────────────────────────────────────────┘"
      ]
     },
     "execution_count": 19,
     "metadata": {},
     "output_type": "execute_result"
    }
   ],
   "source": [
    "sql = \"\"\"\n",
    "    SELECT\n",
    "        disasterNumber,\n",
    "        applicantName,\n",
    "        ROUND(SUM(federalObligatedAmount), 0)::BIGINT AS federalObligatedAmount\n",
    "    FROM\n",
    "        public_assistance\n",
    "    GROUP BY\n",
    "        disasterNumber, applicantName\n",
    "    ORDER BY\n",
    "        federalObligatedAmount DESC   \n",
    "\"\"\"\n",
    "\n",
    "relation = con.sql(sql)\n",
    "\n",
    "con.sql(\"\"\"\n",
    "    SELECT *\n",
    "    FROM relation\n",
    "    ORDER BY federalObligatedAmount DESC\n",
    "    LIMIT 20\n",
    "\"\"\")"
   ]
  },
  {
   "cell_type": "markdown",
   "id": "c2802e3f",
   "metadata": {},
   "source": [
    "**Table xx.** Top 20 Disaster Declarations and Applicants with the Highest Federal Obligated Amount"
   ]
  },
  {
   "cell_type": "code",
   "execution_count": 20,
   "id": "83fe7d52",
   "metadata": {},
   "outputs": [
    {
     "data": {
      "text/plain": [
       "┌─────────┬────────────────────────┐\n",
       "│  year   │ federalObligatedAmount │\n",
       "│ varchar │         int64          │\n",
       "├─────────┼────────────────────────┤\n",
       "│ 2020    │            88375733472 │\n",
       "│ 2017    │            54170092744 │\n",
       "│ 2005    │            21256945361 │\n",
       "│ 2012    │            17783759641 │\n",
       "│ 2018    │             6305405051 │\n",
       "│ 2008    │             5945566626 │\n",
       "│ 2001    │             5843745213 │\n",
       "│ 2021    │             5138792833 │\n",
       "│ 2022    │             4601446539 │\n",
       "│ 2011    │             3819025442 │\n",
       "│ 2004    │             3400392826 │\n",
       "│ 2016    │             2799028865 │\n",
       "│ 2019    │             2282604905 │\n",
       "│ 2023    │             1740736615 │\n",
       "│ 2007    │             1711103631 │\n",
       "│ 2009    │             1605743093 │\n",
       "│ 2010    │             1533523763 │\n",
       "│ 2013    │             1243436633 │\n",
       "│ 2015    │             1167517310 │\n",
       "│ 2006    │             1087690898 │\n",
       "├─────────┴────────────────────────┤\n",
       "│ 20 rows                2 columns │\n",
       "└──────────────────────────────────┘"
      ]
     },
     "execution_count": 20,
     "metadata": {},
     "output_type": "execute_result"
    }
   ],
   "source": [
    "sql = \"\"\"\n",
    "    SELECT\n",
    "        substring(declarationDate::VARCHAR, 1, 4) as year,\n",
    "        ROUND(SUM(federalObligatedAmount), 0)::BIGINT AS federalObligatedAmount\n",
    "    FROM\n",
    "        public_assistance\n",
    "    GROUP BY\n",
    "        year\n",
    "    ORDER BY\n",
    "        federalObligatedAmount DESC   \n",
    "\"\"\"\n",
    "\n",
    "relation = con.sql(sql)\n",
    "\n",
    "con.sql(\"\"\"\n",
    "    SELECT *\n",
    "    FROM relation\n",
    "    ORDER BY federalObligatedAmount DESC\n",
    "    LIMIT 20\n",
    "\"\"\")"
   ]
  },
  {
   "cell_type": "markdown",
   "id": "ebffc93a",
   "metadata": {},
   "source": [
    "**Table xx.** Top 20 Years with the Highest Federal Obligated Amount"
   ]
  },
  {
   "cell_type": "code",
   "execution_count": 21,
   "id": "a74adf8a",
   "metadata": {},
   "outputs": [
    {
     "name": "stdout",
     "output_type": "stream",
     "text": [
      "┌─────────────────────────────────┬────────────────────────┐\n",
      "│          incidentType           │ federalObligatedAmount │\n",
      "│             varchar             │         int64          │\n",
      "├─────────────────────────────────┼────────────────────────┤\n",
      "│ Hurricane                       │           113355465305 │\n",
      "│ Biological                      │            81752672809 │\n",
      "│ Severe Storm                    │            13092177707 │\n",
      "│ Fire                            │             6398730254 │\n",
      "│ Flood                           │             5370081579 │\n",
      "│ Wildfire                        │             3889841629 │\n",
      "│ Severe Storm(s)                 │             3639790895 │\n",
      "│ Severe Ice Storm                │             1906764889 │\n",
      "│ Earthquake                      │             1503749541 │\n",
      "│ Tropical Storm                  │             1463069897 │\n",
      "│ Snowstorm                       │             1190088584 │\n",
      "│ Winter Storm                    │              822070100 │\n",
      "│ Tornado                         │              632699623 │\n",
      "│ Other                           │              615478499 │\n",
      "│ Coastal Storm                   │              492302441 │\n",
      "│ Typhoon                         │              475359850 │\n",
      "│ Volcano                         │              124893424 │\n",
      "│ Mud/Landslide                   │               72368900 │\n",
      "│ Tsunami                         │               50365943 │\n",
      "│ Snow                            │               30753523 │\n",
      "│ Dam/Levee Break                 │               20600698 │\n",
      "│ Volcanic Eruption               │               11125210 │\n",
      "│ Terrorist                       │               11005338 │\n",
      "│ National Special Security Event │                6215069 │\n",
      "│ Freezing                        │                3252444 │\n",
      "│ Chemical                        │                1639099 │\n",
      "│ Toxic Substances                │                1458636 │\n",
      "│ Drought                         │                  73992 │\n",
      "├─────────────────────────────────┴────────────────────────┤\n",
      "│ 28 rows                                        2 columns │\n",
      "└──────────────────────────────────────────────────────────┘\n",
      "\n"
     ]
    }
   ],
   "source": [
    "sql = \"\"\"\n",
    "    SELECT\n",
    "        incidentType,\n",
    "        ROUND(SUM(federalObligatedAmount), 0)::BIGINT AS federalObligatedAmount\n",
    "    FROM\n",
    "        public_assistance\n",
    "    GROUP BY\n",
    "        incidentType\n",
    "    ORDER BY\n",
    "        federalObligatedAmount DESC   \n",
    "\"\"\"\n",
    "\n",
    "relation = con.sql(sql)\n",
    "\n",
    "con.sql(\"\"\"\n",
    "    SELECT *\n",
    "    FROM relation\n",
    "    ORDER BY federalObligatedAmount DESC\n",
    "\"\"\").show(max_rows=50)"
   ]
  },
  {
   "cell_type": "markdown",
   "id": "1e28749c",
   "metadata": {},
   "source": [
    "**Table xx.** Incident Types with the Highest Federal Obligated Amount"
   ]
  },
  {
   "cell_type": "code",
   "execution_count": 22,
   "id": "462e52e1",
   "metadata": {},
   "outputs": [
    {
     "data": {
      "text/plain": [
       "┌─────────┬─────────────────┬────────────────────────┐\n",
       "│  year   │  incidentType   │ federalObligatedAmount │\n",
       "│ varchar │     varchar     │         int64          │\n",
       "├─────────┼─────────────────┼────────────────────────┤\n",
       "│ 2020    │ Biological      │            81749779368 │\n",
       "│ 2017    │ Hurricane       │            51702067349 │\n",
       "│ 2005    │ Hurricane       │            20437583611 │\n",
       "│ 2012    │ Hurricane       │            17384849682 │\n",
       "│ 2001    │ Fire            │             4795549820 │\n",
       "│ 2022    │ Hurricane       │             3509237067 │\n",
       "│ 2020    │ Hurricane       │             3428794938 │\n",
       "│ 2008    │ Hurricane       │             3293933139 │\n",
       "│ 2018    │ Hurricane       │             3276880982 │\n",
       "│ 2004    │ Hurricane       │             2883976508 │\n",
       "│ 2021    │ Hurricane       │             2841558185 │\n",
       "│ 2008    │ Severe Storm    │             2248703906 │\n",
       "│ 2018    │ Wildfire        │             1949261263 │\n",
       "│ 2019    │ Severe Storm(s) │             1415327401 │\n",
       "│ 2011    │ Severe Storm    │             1339441656 │\n",
       "│ 2007    │ Severe Storm    │             1279021712 │\n",
       "│ 2011    │ Hurricane       │             1269057305 │\n",
       "│ 2016    │ Flood           │             1147808576 │\n",
       "│ 2016    │ Hurricane       │             1114025460 │\n",
       "│ 2017    │ Flood           │             1096010937 │\n",
       "├─────────┴─────────────────┴────────────────────────┤\n",
       "│ 20 rows                                  3 columns │\n",
       "└────────────────────────────────────────────────────┘"
      ]
     },
     "execution_count": 22,
     "metadata": {},
     "output_type": "execute_result"
    }
   ],
   "source": [
    "sql = \"\"\"\n",
    "    SELECT\n",
    "        substring(declarationDate::VARCHAR, 1, 4) as year,\n",
    "        incidentType,\n",
    "        ROUND(SUM(federalObligatedAmount), 0)::BIGINT AS federalObligatedAmount\n",
    "    FROM\n",
    "        public_assistance\n",
    "    GROUP BY\n",
    "        year, incidentType\n",
    "    ORDER BY\n",
    "        federalObligatedAmount DESC   \n",
    "\"\"\"\n",
    "\n",
    "relation = con.sql(sql)\n",
    "\n",
    "con.sql(\"\"\"\n",
    "    SELECT *\n",
    "    FROM relation\n",
    "    ORDER BY federalObligatedAmount DESC\n",
    "    LIMIT 20\n",
    "\"\"\")"
   ]
  },
  {
   "cell_type": "markdown",
   "id": "085a56d1",
   "metadata": {},
   "source": [
    "**Table xx.** Top 20 Years and Incident Types with the Highest Federal Obligated Amount"
   ]
  },
  {
   "cell_type": "code",
   "execution_count": 23,
   "id": "5a9230a4",
   "metadata": {},
   "outputs": [
    {
     "data": {
      "text/plain": [
       "┌────────────────┬────────────────────────┐\n",
       "│     state      │ federalObligatedAmount │\n",
       "│    varchar     │         int64          │\n",
       "├────────────────┼────────────────────────┤\n",
       "│ New York       │            37470703059 │\n",
       "│ Puerto Rico    │            36804567516 │\n",
       "│ Louisiana      │            24702773099 │\n",
       "│ Texas          │            22668021776 │\n",
       "│ California     │            17002685086 │\n",
       "│ Florida        │            16507361698 │\n",
       "│ Virgin Islands │            12465714202 │\n",
       "│ New Jersey     │             6064328491 │\n",
       "│ Mississippi    │             4233026069 │\n",
       "│ North Carolina │             4013296086 │\n",
       "│ Massachusetts  │             3701976396 │\n",
       "│ Washington     │             3217424675 │\n",
       "│ Colorado       │             2759097871 │\n",
       "│ Maryland       │             2459344288 │\n",
       "│ Illinois       │             2440749134 │\n",
       "│ Iowa           │             2380877862 │\n",
       "│ Pennsylvania   │             2241351498 │\n",
       "│ Virginia       │             1830251778 │\n",
       "│ Oregon         │             1824694794 │\n",
       "│ Missouri       │             1778479056 │\n",
       "├────────────────┴────────────────────────┤\n",
       "│ 20 rows                       2 columns │\n",
       "└─────────────────────────────────────────┘"
      ]
     },
     "execution_count": 23,
     "metadata": {},
     "output_type": "execute_result"
    }
   ],
   "source": [
    "sql = \"\"\"\n",
    "    SELECT\n",
    "        state,\n",
    "        ROUND(SUM(federalObligatedAmount), 0)::BIGINT AS federalObligatedAmount\n",
    "    FROM\n",
    "        public_assistance\n",
    "    GROUP BY\n",
    "        state\n",
    "    ORDER BY\n",
    "        federalObligatedAmount DESC   \n",
    "\"\"\"\n",
    "\n",
    "relation = con.sql(sql)\n",
    "\n",
    "con.sql(\"\"\"\n",
    "    SELECT *\n",
    "    FROM relation\n",
    "    ORDER BY federalObligatedAmount DESC\n",
    "    LIMIT 20\n",
    "\"\"\")"
   ]
  },
  {
   "cell_type": "markdown",
   "id": "ee758bf7",
   "metadata": {},
   "source": [
    "**Table xx.** Top 20 States with the Highest Federal Obligated Amount"
   ]
  },
  {
   "cell_type": "code",
   "execution_count": 24,
   "id": "49aa1f0a",
   "metadata": {},
   "outputs": [
    {
     "data": {
      "text/plain": [
       "┌────────────────┬────────────────────┬────────────────────────┐\n",
       "│     state      │       county       │ federalObligatedAmount │\n",
       "│    varchar     │      varchar       │         int64          │\n",
       "├────────────────┼────────────────────┼────────────────────────┤\n",
       "│ Puerto Rico    │ Statewide          │            29119979157 │\n",
       "│ Texas          │ Statewide          │            16410713752 │\n",
       "│ New York       │ New York           │            12531417444 │\n",
       "│ Virgin Islands │ Statewide          │            12430079292 │\n",
       "│ California     │ Statewide          │            10171603998 │\n",
       "│ New York       │ New York County    │             9735811199 │\n",
       "│ Louisiana      │ Statewide          │             8730357357 │\n",
       "│ New York       │ Statewide          │             7412039715 │\n",
       "│ Florida        │ Statewide          │             6287064559 │\n",
       "│ Louisiana      │ Orleans            │             5064821871 │\n",
       "│ New Jersey     │ Statewide          │             2822501914 │\n",
       "│ Colorado       │ Statewide          │             1990383987 │\n",
       "│ Louisiana      │ E. Baton Rouge     │             1905253473 │\n",
       "│ Massachusetts  │ Statewide          │             1862664417 │\n",
       "│ Texas          │ Harris County      │             1818660280 │\n",
       "│ Louisiana      │ St. Bernard        │             1792272779 │\n",
       "│ California     │ Los Angeles County │             1707244025 │\n",
       "│ New York       │ Nassau             │             1698965922 │\n",
       "│ Washington     │ Statewide          │             1627898851 │\n",
       "│ Maryland       │ Statewide          │             1543679047 │\n",
       "├────────────────┴────────────────────┴────────────────────────┤\n",
       "│ 20 rows                                            3 columns │\n",
       "└──────────────────────────────────────────────────────────────┘"
      ]
     },
     "execution_count": 24,
     "metadata": {},
     "output_type": "execute_result"
    }
   ],
   "source": [
    "sql = \"\"\"\n",
    "    SELECT\n",
    "        state,\n",
    "        county,\n",
    "        ROUND(SUM(federalObligatedAmount), 0)::BIGINT AS federalObligatedAmount\n",
    "    FROM\n",
    "        public_assistance\n",
    "    GROUP BY\n",
    "        state, county\n",
    "    ORDER BY\n",
    "        federalObligatedAmount DESC   \n",
    "\"\"\"\n",
    "\n",
    "relation = con.sql(sql)\n",
    "\n",
    "con.sql(\"\"\"\n",
    "    SELECT *\n",
    "    FROM relation\n",
    "    ORDER BY federalObligatedAmount DESC\n",
    "    LIMIT 20\n",
    "\"\"\")"
   ]
  },
  {
   "cell_type": "markdown",
   "id": "2220b87f",
   "metadata": {},
   "source": [
    "**Table xx.** Top 20 States and Counties with the Highest Federal Obligated Amount"
   ]
  },
  {
   "cell_type": "code",
   "execution_count": 25,
   "id": "4b212a44",
   "metadata": {},
   "outputs": [
    {
     "data": {
      "text/plain": [
       "┌────────────────┬──────────────┬────────────────────────┐\n",
       "│     state      │ incidentType │ federalObligatedAmount │\n",
       "│    varchar     │   varchar    │         int64          │\n",
       "├────────────────┼──────────────┼────────────────────────┤\n",
       "│ Puerto Rico    │ Hurricane    │            35547364578 │\n",
       "│ Louisiana      │ Hurricane    │            21112502682 │\n",
       "│ New York       │ Hurricane    │            15342097227 │\n",
       "│ New York       │ Biological   │            15059999395 │\n",
       "│ Texas          │ Biological   │            14909743427 │\n",
       "│ Florida        │ Hurricane    │            12636561392 │\n",
       "│ Virgin Islands │ Hurricane    │            12306903721 │\n",
       "│ California     │ Biological   │            10618638278 │\n",
       "│ Texas          │ Hurricane    │             6175842977 │\n",
       "│ New York       │ Fire         │             4708614487 │\n",
       "│ Mississippi    │ Hurricane    │             3297426051 │\n",
       "│ California     │ Wildfire     │             3057389795 │\n",
       "│ Florida        │ Biological   │             3053694701 │\n",
       "│ Massachusetts  │ Biological   │             2978018499 │\n",
       "│ New Jersey     │ Biological   │             2960234354 │\n",
       "│ Washington     │ Biological   │             2550449578 │\n",
       "│ Louisiana      │ Biological   │             2495205446 │\n",
       "│ New Jersey     │ Hurricane    │             2304741594 │\n",
       "│ Colorado       │ Biological   │             2205820484 │\n",
       "│ Maryland       │ Biological   │             2084555593 │\n",
       "├────────────────┴──────────────┴────────────────────────┤\n",
       "│ 20 rows                                      3 columns │\n",
       "└────────────────────────────────────────────────────────┘"
      ]
     },
     "execution_count": 25,
     "metadata": {},
     "output_type": "execute_result"
    }
   ],
   "source": [
    "sql = \"\"\"\n",
    "    SELECT\n",
    "        state,\n",
    "        incidentType,\n",
    "        ROUND(SUM(federalObligatedAmount), 0)::BIGINT AS federalObligatedAmount\n",
    "    FROM\n",
    "        public_assistance\n",
    "    GROUP BY\n",
    "        state, incidentType\n",
    "    ORDER BY\n",
    "        federalObligatedAmount DESC   \n",
    "\"\"\"\n",
    "\n",
    "relation = con.sql(sql)\n",
    "\n",
    "con.sql(\"\"\"\n",
    "    SELECT *\n",
    "    FROM relation\n",
    "    ORDER BY federalObligatedAmount DESC\n",
    "    LIMIT 20\n",
    "\"\"\")"
   ]
  },
  {
   "cell_type": "markdown",
   "id": "738334fb",
   "metadata": {},
   "source": [
    "**Table xx.** Top 20 Disaster Declarations, States, Years, and Incident Types with the Highest Federal Obligated Amount"
   ]
  },
  {
   "cell_type": "code",
   "execution_count": 26,
   "id": "9d9e6a66",
   "metadata": {},
   "outputs": [
    {
     "data": {
      "text/plain": [
       "┌────────────────┬────────────────┬─────────┬──────────────┬────────────────────────┐\n",
       "│ disasterNumber │     state      │  year   │ incidentType │ federalObligatedAmount │\n",
       "│     int16      │    varchar     │ varchar │   varchar    │         int64          │\n",
       "├────────────────┼────────────────┼─────────┼──────────────┼────────────────────────┤\n",
       "│           4339 │ Puerto Rico    │ 2017    │ Hurricane    │            33962164412 │\n",
       "│           4480 │ New York       │ 2020    │ Biological   │            15056437208 │\n",
       "│           4485 │ Texas          │ 2020    │ Biological   │            14909743427 │\n",
       "│           4085 │ New York       │ 2012    │ Hurricane    │            14735635709 │\n",
       "│           1603 │ Louisiana      │ 2005    │ Hurricane    │            13524620378 │\n",
       "│           4340 │ Virgin Islands │ 2017    │ Hurricane    │            12239518967 │\n",
       "│           4482 │ California     │ 2020    │ Biological   │            10609269973 │\n",
       "│           1391 │ New York       │ 2001    │ Fire         │             4708614487 │\n",
       "│           1604 │ Mississippi    │ 2005    │ Hurricane    │             3184451567 │\n",
       "│           4486 │ Florida        │ 2020    │ Biological   │             3051885056 │\n",
       "│           4496 │ Massachusetts  │ 2020    │ Biological   │             2975723414 │\n",
       "│           4488 │ New Jersey     │ 2020    │ Biological   │             2960234354 │\n",
       "│           4332 │ Texas          │ 2017    │ Hurricane    │             2921550103 │\n",
       "│           4559 │ Louisiana      │ 2020    │ Hurricane    │             2738678043 │\n",
       "│           4611 │ Louisiana      │ 2021    │ Hurricane    │             2639501898 │\n",
       "│           4481 │ Washington     │ 2020    │ Biological   │             2549450589 │\n",
       "│           4484 │ Louisiana      │ 2020    │ Biological   │             2495205446 │\n",
       "│           4337 │ Florida        │ 2017    │ Hurricane    │             2461181260 │\n",
       "│           4673 │ Florida        │ 2022    │ Hurricane    │             2305449162 │\n",
       "│           1791 │ Texas          │ 2008    │ Hurricane    │             2222384884 │\n",
       "├────────────────┴────────────────┴─────────┴──────────────┴────────────────────────┤\n",
       "│ 20 rows                                                                 5 columns │\n",
       "└───────────────────────────────────────────────────────────────────────────────────┘"
      ]
     },
     "execution_count": 26,
     "metadata": {},
     "output_type": "execute_result"
    }
   ],
   "source": [
    "sql = \"\"\"\n",
    "    SELECT\n",
    "        disasterNumber,\n",
    "        state,\n",
    "        substring(declarationDate::VARCHAR, 1, 4) as year,\n",
    "        incidentType,\n",
    "        ROUND(SUM(federalObligatedAmount), 0)::BIGINT AS federalObligatedAmount\n",
    "    FROM\n",
    "        public_assistance\n",
    "    GROUP BY\n",
    "        disasterNumber, state, year, incidentType\n",
    "    ORDER BY\n",
    "        federalObligatedAmount DESC   \n",
    "\"\"\"\n",
    "\n",
    "relation = con.sql(sql)\n",
    "\n",
    "con.sql(\"\"\"\n",
    "    SELECT *\n",
    "    FROM relation\n",
    "    ORDER BY federalObligatedAmount DESC\n",
    "    LIMIT 20\n",
    "\"\"\")"
   ]
  },
  {
   "cell_type": "code",
   "execution_count": null,
   "id": "91901463",
   "metadata": {},
   "outputs": [],
   "source": []
  }
 ],
 "metadata": {
  "kernelspec": {
   "display_name": "Python 3 (ipykernel)",
   "language": "python",
   "name": "python3"
  },
  "language_info": {
   "codemirror_mode": {
    "name": "ipython",
    "version": 3
   },
   "file_extension": ".py",
   "mimetype": "text/x-python",
   "name": "python",
   "nbconvert_exporter": "python",
   "pygments_lexer": "ipython3",
   "version": "3.11.0"
  }
 },
 "nbformat": 4,
 "nbformat_minor": 5
}
